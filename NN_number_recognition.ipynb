{
 "cells": [
  {
   "cell_type": "code",
   "execution_count": null,
   "id": "deb78b6f-753e-4004-bcd8-49efe6cec94d",
   "metadata": {},
   "outputs": [],
   "source": [
    "!pip install opencv-python"
   ]
  },
  {
   "cell_type": "code",
   "execution_count": null,
   "id": "e0a4da04-a613-4664-83d0-ef8781cf853d",
   "metadata": {},
   "outputs": [],
   "source": [
    "import os\n",
    "import cv2\n",
    "import numpy as np\n",
    "import matplotlib.pyplot as plt\n",
    "import tensorflow as tf\n",
    "import keras"
   ]
  },
  {
   "cell_type": "code",
   "execution_count": null,
   "id": "201c4431-b509-4c14-8641-6f18746aeaba",
   "metadata": {},
   "outputs": [],
   "source": [
    "from keras.layers import Conv2D, MaxPooling2D, Dropout, Flatten"
   ]
  },
  {
   "cell_type": "code",
   "execution_count": null,
   "id": "44d5b258-3464-461d-99a5-f4878a12456b",
   "metadata": {},
   "outputs": [],
   "source": [
    "#loading the data\n",
    "mnist = tf.keras.datasets.mnist\n",
    "\n",
    "#split into training data and testing data (usually 80-20)\n",
    "(x_train, y_train), (x_test, y_test) = mnist.load_data()\n",
    "print(y_train)"
   ]
  },
  {
   "cell_type": "code",
   "execution_count": null,
   "id": "eb874337-6c88-479e-9039-1c8e5f877004",
   "metadata": {},
   "outputs": [],
   "source": [
    "#normalize training sets so instead of having colours go from 0-255 they now go \n",
    "#from 0-1 based on the length of the axis\n",
    "x_train = tf.keras.utils.normalize(x_train, axis=1)\n",
    "x_test = tf.keras.utils.normalize(x_test, axis=1)"
   ]
  },
  {
   "cell_type": "code",
   "execution_count": null,
   "id": "f3cca0be-c5c2-44ba-8fb5-d1edabeb9a11",
   "metadata": {},
   "outputs": [],
   "source": [
    "#creatae layers and set activation\n",
    "model = tf.keras.models.Sequential()"
   ]
  },
  {
   "cell_type": "code",
   "execution_count": null,
   "id": "cf0a842a-dccf-4cd2-828e-375bab27030f",
   "metadata": {},
   "outputs": [],
   "source": [
    "#add the first layer which flattens the later from 28x28 to a 784 layer\n",
    "model.add(tf.keras.layers.Flatten(input_shape=(28,28)))"
   ]
  },
  {
   "cell_type": "code",
   "execution_count": null,
   "id": "5fc027b0-42c7-4b24-be4d-a34dd543a17e",
   "metadata": {},
   "outputs": [],
   "source": [
    "#Add second layer (dense), which is just a basic layer which is connected to all neurons\n",
    "#First mention how many neuros\n",
    "#Secondly mention the activation (relu = rectivy linear unit returns x if x > 0 and 0 if x<= 0) \n",
    "#different activation (relu, sigmoid, tanh, elus, etc.\n",
    "model.add(tf.keras.layers.Dense(128, activation='relu'))\n",
    "model.add(tf.keras.layers.Dense(128, activation='relu'))"
   ]
  },
  {
   "cell_type": "code",
   "execution_count": null,
   "id": "52a296ca-a0d4-4477-83a6-a471f5b012a8",
   "metadata": {},
   "outputs": [],
   "source": [
    "#Output layer, represents individual numbers 0-9\n",
    "#Activation softmax = gives the highest probability of a specific individual number\n",
    "model.add(tf.keras.layers.Dense(10, activation='softmax'))"
   ]
  },
  {
   "cell_type": "code",
   "execution_count": null,
   "id": "d5b97a6a-f0d6-4244-af55-0d0ac05d4555",
   "metadata": {},
   "outputs": [],
   "source": [
    "#compile the model\n",
    "model.compile(optimizer='adam',loss='sparse_categorical_crossentropy', metrics=['accuracy'])"
   ]
  },
  {
   "cell_type": "code",
   "execution_count": null,
   "id": "425edd91-706f-459b-96d1-b454c139235b",
   "metadata": {},
   "outputs": [],
   "source": [
    "#fit the model using training data (epochs is number or reruns for higher accuracy)\n",
    "model.fit(x_train, y_train, epochs=10)"
   ]
  },
  {
   "cell_type": "code",
   "execution_count": null,
   "id": "3c7a653a-c820-4350-a2ea-1794f0a872fb",
   "metadata": {},
   "outputs": [],
   "source": [
    "#save the model (this steps makes it so that you can comment out above steps)\n",
    "model.save('/Users/remydijkstra/Desktop/python/trained_neural_network.keras')"
   ]
  },
  {
   "cell_type": "code",
   "execution_count": null,
   "id": "d8e5ca5e-f68a-442b-a479-bc8bdefed412",
   "metadata": {},
   "outputs": [],
   "source": [
    "#load the model if you have it saved to skip training steps\n",
    "model = tf.keras.models.load_model('trained_neural_network.keras')"
   ]
  },
  {
   "cell_type": "code",
   "execution_count": null,
   "id": "c03079db-d531-455a-8bda-6fb90a2c20e8",
   "metadata": {},
   "outputs": [],
   "source": [
    "#evaluate the loss and accuracy of the model\n",
    "loss, accuracy = model.evaluate(x_test, y_test)\n",
    "\n",
    "print(loss)\n",
    "print(accuracy)"
   ]
  },
  {
   "cell_type": "code",
   "execution_count": null,
   "id": "6c835888-5f41-4aca-9d16-45f5664be7a9",
   "metadata": {},
   "outputs": [],
   "source": [
    "#initialize image number\n",
    "image_number = 1"
   ]
  },
  {
   "cell_type": "code",
   "execution_count": null,
   "id": "80a28cc9-3cd6-441b-862e-2bc35c3dc478",
   "metadata": {},
   "outputs": [],
   "source": [
    "#while you have more images\n",
    "while os.path.isfile(f\"Hand written numbers/digit{image_number}.png\"):\n",
    "    try:\n",
    "        #read the image\n",
    "        img = cv2.imread(f\"Hand written numbers/digit{image_number}.png\")[:,:,0]\n",
    "        #invert the colours (black to white and white to black) and make into an array\n",
    "        img = np.invert(np.array([img]))\n",
    "        #now predict the number of the image using the model\n",
    "        prediction = model.predict(img)\n",
    "        #print prediction np.argmax gives the field that has the highest number\n",
    "        print(f\"the number is probably a {np.argmax(prediction)}\")\n",
    "        plt.imshow(img[0], cmap=plt.cm.binary)\n",
    "        plt.show()\n",
    "    except:\n",
    "        print(\"Error!\")\n",
    "    finally:\n",
    "        image_number += 1"
   ]
  },
  {
   "cell_type": "code",
   "execution_count": null,
   "id": "b3731a3c-433b-4643-b983-a9cbfbb21fb6",
   "metadata": {},
   "outputs": [],
   "source": []
  }
 ],
 "metadata": {
  "kernelspec": {
   "display_name": "Python 3 (ipykernel)",
   "language": "python",
   "name": "python3"
  },
  "language_info": {
   "codemirror_mode": {
    "name": "ipython",
    "version": 3
   },
   "file_extension": ".py",
   "mimetype": "text/x-python",
   "name": "python",
   "nbconvert_exporter": "python",
   "pygments_lexer": "ipython3",
   "version": "3.11.7"
  }
 },
 "nbformat": 4,
 "nbformat_minor": 5
}
